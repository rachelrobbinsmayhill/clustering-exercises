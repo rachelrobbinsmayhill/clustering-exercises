{
 "cells": [
  {
   "cell_type": "markdown",
   "id": "0db682b7-e9b3-45eb-b942-28e40903ed8f",
   "metadata": {},
   "source": [
    "# Clustering - Mall Customers"
   ]
  },
  {
   "cell_type": "code",
   "execution_count": null,
   "id": "52522948-b7d0-499d-8a52-d9054b531e47",
   "metadata": {},
   "outputs": [],
   "source": [
    "import wrangle_zillow"
   ]
  },
  {
   "cell_type": "code",
   "execution_count": 1,
   "id": "696e653b-cdb1-4ff4-a13b-038ec5b4cc53",
   "metadata": {},
   "outputs": [],
   "source": [
    "from imports import *"
   ]
  },
  {
   "cell_type": "markdown",
   "id": "8a33deed-b343-4e5b-839e-313e8685528f",
   "metadata": {},
   "source": [
    "Mall Customers notebook\n",
    "- 1. Acquire data from mall_customers.customers in mysql database."
   ]
  },
  {
   "cell_type": "code",
   "execution_count": null,
   "id": "8b25eef0-6dac-482d-b0e8-7e11e3c1cea6",
   "metadata": {},
   "outputs": [],
   "source": []
  },
  {
   "cell_type": "markdown",
   "id": "1d4bde0c-7247-4c05-ba1f-e81e423b03e6",
   "metadata": {},
   "source": [
    "- 2. Summarize data (include distributions and descriptive statistics)."
   ]
  },
  {
   "cell_type": "code",
   "execution_count": null,
   "id": "b6c9cfb0-74f6-4090-a29b-0e06e857ee8e",
   "metadata": {},
   "outputs": [],
   "source": []
  },
  {
   "cell_type": "markdown",
   "id": "b5f75f25-7aa3-43c8-80b1-1793e4dde59e",
   "metadata": {},
   "source": [
    "- 3. Detect outliers using IQR."
   ]
  },
  {
   "cell_type": "code",
   "execution_count": null,
   "id": "2e8f239f-255e-4678-8a24-9e97ed6e4b68",
   "metadata": {},
   "outputs": [],
   "source": []
  },
  {
   "cell_type": "markdown",
   "id": "00e4b724-bb25-409b-92c7-8c1b76194044",
   "metadata": {},
   "source": [
    "- 4. Split data (train, validate, and test split)."
   ]
  },
  {
   "cell_type": "code",
   "execution_count": null,
   "id": "a32bbd32-d0fa-4b0c-b45b-37f53e8644a1",
   "metadata": {},
   "outputs": [],
   "source": []
  },
  {
   "cell_type": "markdown",
   "id": "ff0f012b-0321-4138-a5e4-2c8ebf6d4bbf",
   "metadata": {},
   "source": [
    "- 5. Encode categorical columns using a one hot encoder (pd.get_dummies)."
   ]
  },
  {
   "cell_type": "code",
   "execution_count": null,
   "id": "519fd17c-105b-40db-9b1d-2ad59d9efb4b",
   "metadata": {},
   "outputs": [],
   "source": []
  },
  {
   "cell_type": "markdown",
   "id": "24bff0c7-b936-4b97-bba5-d84e3da13165",
   "metadata": {},
   "source": [
    "- 6. Handles missing values."
   ]
  },
  {
   "cell_type": "code",
   "execution_count": null,
   "id": "5863161d-ea40-46f4-92d1-cc5b0c137ac8",
   "metadata": {},
   "outputs": [],
   "source": []
  },
  {
   "cell_type": "markdown",
   "id": "2b4c0a07-e490-4d0f-a704-e627d02fc51d",
   "metadata": {},
   "source": [
    "- 7. Scaling"
   ]
  },
  {
   "cell_type": "code",
   "execution_count": null,
   "id": "7a3b43b3-bd70-46b7-bfd8-a0c442b50d32",
   "metadata": {},
   "outputs": [],
   "source": []
  },
  {
   "cell_type": "code",
   "execution_count": null,
   "id": "548127f5-e496-4a82-b155-77a630328577",
   "metadata": {},
   "outputs": [],
   "source": [
    "wrangle_mall.py\n",
    "- 1. Acquire data from mall_customers.customers in mysql database.\n",
    "- 2. Split the data into train, validate, and split\n",
    "- 3. One-hot-encoding (pd.get_dummies)\n",
    "- 4. Missing values\n",
    "- 5. Scaling\n",
    "- 6. Add, commit, and push all of your work."
   ]
  }
 ],
 "metadata": {
  "kernelspec": {
   "display_name": "Python 3 (ipykernel)",
   "language": "python",
   "name": "python3"
  },
  "language_info": {
   "codemirror_mode": {
    "name": "ipython",
    "version": 3
   },
   "file_extension": ".py",
   "mimetype": "text/x-python",
   "name": "python",
   "nbconvert_exporter": "python",
   "pygments_lexer": "ipython3",
   "version": "3.9.7"
  }
 },
 "nbformat": 4,
 "nbformat_minor": 5
}
