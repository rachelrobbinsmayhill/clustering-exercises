{
 "cells": [
  {
   "cell_type": "markdown",
   "id": "0db682b7-e9b3-45eb-b942-28e40903ed8f",
   "metadata": {},
   "source": [
    "# Clustering - Mall Customers"
   ]
  },
  {
   "cell_type": "code",
   "execution_count": 1,
   "id": "52522948-b7d0-499d-8a52-d9054b531e47",
   "metadata": {},
   "outputs": [],
   "source": [
    "import wrangle_mall"
   ]
  },
  {
   "cell_type": "code",
   "execution_count": 2,
   "id": "696e653b-cdb1-4ff4-a13b-038ec5b4cc53",
   "metadata": {},
   "outputs": [],
   "source": [
    "from imports import *"
   ]
  },
  {
   "cell_type": "markdown",
   "id": "8a33deed-b343-4e5b-839e-313e8685528f",
   "metadata": {},
   "source": [
    "Mall Customers notebook\n",
    "- 1. Acquire data from mall_customers.customers in mysql database."
   ]
  },
  {
   "cell_type": "code",
   "execution_count": 3,
   "id": "c81a28d7-457d-4137-9f7a-42c1840c4ca9",
   "metadata": {},
   "outputs": [
    {
     "name": "stdout",
     "output_type": "stream",
     "text": [
      "Reading from csv file...\n"
     ]
    },
    {
     "data": {
      "text/html": [
       "<div>\n",
       "<style scoped>\n",
       "    .dataframe tbody tr th:only-of-type {\n",
       "        vertical-align: middle;\n",
       "    }\n",
       "\n",
       "    .dataframe tbody tr th {\n",
       "        vertical-align: top;\n",
       "    }\n",
       "\n",
       "    .dataframe thead th {\n",
       "        text-align: right;\n",
       "    }\n",
       "</style>\n",
       "<table border=\"1\" class=\"dataframe\">\n",
       "  <thead>\n",
       "    <tr style=\"text-align: right;\">\n",
       "      <th></th>\n",
       "      <th>customer_id</th>\n",
       "      <th>gender</th>\n",
       "      <th>age</th>\n",
       "      <th>annual_income</th>\n",
       "      <th>spending_score</th>\n",
       "    </tr>\n",
       "  </thead>\n",
       "  <tbody>\n",
       "    <tr>\n",
       "      <th>0</th>\n",
       "      <td>1</td>\n",
       "      <td>Male</td>\n",
       "      <td>19</td>\n",
       "      <td>15</td>\n",
       "      <td>39</td>\n",
       "    </tr>\n",
       "    <tr>\n",
       "      <th>1</th>\n",
       "      <td>2</td>\n",
       "      <td>Male</td>\n",
       "      <td>21</td>\n",
       "      <td>15</td>\n",
       "      <td>81</td>\n",
       "    </tr>\n",
       "    <tr>\n",
       "      <th>2</th>\n",
       "      <td>3</td>\n",
       "      <td>Female</td>\n",
       "      <td>20</td>\n",
       "      <td>16</td>\n",
       "      <td>6</td>\n",
       "    </tr>\n",
       "    <tr>\n",
       "      <th>3</th>\n",
       "      <td>4</td>\n",
       "      <td>Female</td>\n",
       "      <td>23</td>\n",
       "      <td>16</td>\n",
       "      <td>77</td>\n",
       "    </tr>\n",
       "    <tr>\n",
       "      <th>4</th>\n",
       "      <td>5</td>\n",
       "      <td>Female</td>\n",
       "      <td>31</td>\n",
       "      <td>17</td>\n",
       "      <td>40</td>\n",
       "    </tr>\n",
       "  </tbody>\n",
       "</table>\n",
       "</div>"
      ],
      "text/plain": [
       "   customer_id  gender  age  annual_income  spending_score\n",
       "0            1    Male   19             15              39\n",
       "1            2    Male   21             15              81\n",
       "2            3  Female   20             16               6\n",
       "3            4  Female   23             16              77\n",
       "4            5  Female   31             17              40"
      ]
     },
     "execution_count": 3,
     "metadata": {},
     "output_type": "execute_result"
    }
   ],
   "source": [
    "df = wrangle_mall.get_mall_data()\n",
    "df.head()"
   ]
  },
  {
   "cell_type": "markdown",
   "id": "1d4bde0c-7247-4c05-ba1f-e81e423b03e6",
   "metadata": {},
   "source": [
    "- 2. Summarize data (include distributions and descriptive statistics)."
   ]
  },
  {
   "cell_type": "code",
   "execution_count": 4,
   "id": "ceeb8ab9-5656-4162-b828-f5018bdb8c83",
   "metadata": {},
   "outputs": [
    {
     "name": "stdout",
     "output_type": "stream",
     "text": [
      "--- Shape: (200, 5)\n",
      "--- Descriptions\n",
      "                customer_id  gender                  age        annual_income  \\\n",
      "count                200.00     200               200.00               200.00   \n",
      "unique                  NaN       2                  NaN                  NaN   \n",
      "top                     NaN  Female                  NaN                  NaN   \n",
      "freq                    NaN     112                  NaN                  NaN   \n",
      "mean                 100.50     NaN                38.85                60.56   \n",
      "std                   57.88     NaN                13.97                26.26   \n",
      "min                    1.00     NaN                18.00                15.00   \n",
      "25%                   50.75     NaN                28.75                41.50   \n",
      "50%                  100.50     NaN                36.00                61.50   \n",
      "75%                  150.25     NaN                49.00                78.00   \n",
      "max                  200.00     NaN                70.00               137.00   \n",
      "\n",
      "             spending_score  \n",
      "count                200.00  \n",
      "unique                  NaN  \n",
      "top                     NaN  \n",
      "freq                    NaN  \n",
      "mean                  50.20  \n",
      "std                   25.82  \n",
      "min                    1.00  \n",
      "25%                   34.75  \n",
      "50%                   50.00  \n",
      "75%                   73.00  \n",
      "max                   99.00  \n",
      "--- Info\n",
      "<class 'pandas.core.frame.DataFrame'>\n",
      "RangeIndex: 200 entries, 0 to 199\n",
      "Data columns (total 5 columns):\n",
      " #   Column          Non-Null Count  Dtype \n",
      "---  ------          --------------  ----- \n",
      " 0   customer_id     200 non-null    int64 \n",
      " 1   gender          200 non-null    object\n",
      " 2   age             200 non-null    int64 \n",
      " 3   annual_income   200 non-null    int64 \n",
      " 4   spending_score  200 non-null    int64 \n",
      "dtypes: int64(4), object(1)\n",
      "memory usage: 7.9+ KB\n"
     ]
    }
   ],
   "source": [
    "wrangle_mall.summary_info(df)"
   ]
  },
  {
   "cell_type": "code",
   "execution_count": 5,
   "id": "f6b0106f-e618-49af-a23d-7b0a4ac574c3",
   "metadata": {},
   "outputs": [],
   "source": [
    "#sns.distplot("
   ]
  },
  {
   "cell_type": "markdown",
   "id": "b5f75f25-7aa3-43c8-80b1-1793e4dde59e",
   "metadata": {},
   "source": [
    "- 3. Detect outliers using IQR."
   ]
  },
  {
   "cell_type": "code",
   "execution_count": 6,
   "id": "9765aed6-721a-46f7-820c-bf51b5578bce",
   "metadata": {},
   "outputs": [
    {
     "data": {
      "text/plain": [
       "(41.5, 78.0)"
      ]
     },
     "execution_count": 6,
     "metadata": {},
     "output_type": "execute_result"
    }
   ],
   "source": [
    "q1 = df.annual_income.quantile(.25)\n",
    "q3 = df.annual_income.quantile(.75)\n",
    "q1, q3"
   ]
  },
  {
   "cell_type": "code",
   "execution_count": 7,
   "id": "ad2edfc7-b986-453f-998f-1ef3a84e9faa",
   "metadata": {},
   "outputs": [
    {
     "data": {
      "text/html": [
       "<div>\n",
       "<style scoped>\n",
       "    .dataframe tbody tr th:only-of-type {\n",
       "        vertical-align: middle;\n",
       "    }\n",
       "\n",
       "    .dataframe tbody tr th {\n",
       "        vertical-align: top;\n",
       "    }\n",
       "\n",
       "    .dataframe thead th {\n",
       "        text-align: right;\n",
       "    }\n",
       "</style>\n",
       "<table border=\"1\" class=\"dataframe\">\n",
       "  <thead>\n",
       "    <tr style=\"text-align: right;\">\n",
       "      <th></th>\n",
       "      <th>customer_id</th>\n",
       "      <th>gender</th>\n",
       "      <th>age</th>\n",
       "      <th>annual_income</th>\n",
       "      <th>spending_score</th>\n",
       "    </tr>\n",
       "  </thead>\n",
       "  <tbody>\n",
       "    <tr>\n",
       "      <th>198</th>\n",
       "      <td>199</td>\n",
       "      <td>Male</td>\n",
       "      <td>32</td>\n",
       "      <td>137</td>\n",
       "      <td>18</td>\n",
       "    </tr>\n",
       "    <tr>\n",
       "      <th>199</th>\n",
       "      <td>200</td>\n",
       "      <td>Male</td>\n",
       "      <td>30</td>\n",
       "      <td>137</td>\n",
       "      <td>83</td>\n",
       "    </tr>\n",
       "  </tbody>\n",
       "</table>\n",
       "</div>"
      ],
      "text/plain": [
       "     customer_id gender  age  annual_income  spending_score\n",
       "198          199   Male   32            137              18\n",
       "199          200   Male   30            137              83"
      ]
     },
     "execution_count": 7,
     "metadata": {},
     "output_type": "execute_result"
    }
   ],
   "source": [
    "iqr = q3 - q1\n",
    "# typical values for k are either 1.5 or 3; a greater value means less points will be considered outliers\n",
    "k = 1.5\n",
    "upper_bound = k * iqr + q3\n",
    "df[df.annual_income > upper_bound]"
   ]
  },
  {
   "cell_type": "code",
   "execution_count": 8,
   "id": "8de3676a-3327-4bf3-9707-0ac8fa32cf2f",
   "metadata": {},
   "outputs": [
    {
     "data": {
      "text/plain": [
       "0                     0.00\n",
       "1                     0.00\n",
       "2                     0.00\n",
       "3                     0.00\n",
       "4                     0.00\n",
       "              ...         \n",
       "195                   0.00\n",
       "196                   0.00\n",
       "197                   0.00\n",
       "198                   4.25\n",
       "199                   4.25\n",
       "Name: annual_income_outliers, Length: 200, dtype: float64"
      ]
     },
     "execution_count": 8,
     "metadata": {},
     "output_type": "execute_result"
    }
   ],
   "source": [
    "def replace_negative_with_zero(x):\n",
    "    if x < 0:\n",
    "        return 0\n",
    "    else:\n",
    "        return x\n",
    "\n",
    "df['annual_income_outliers'] = df.annual_income - upper_bound\n",
    "df.annual_income_outliers.apply(replace_negative_with_zero)"
   ]
  },
  {
   "cell_type": "code",
   "execution_count": 9,
   "id": "fff36381-1835-494a-aa01-7d36605e954a",
   "metadata": {},
   "outputs": [
    {
     "data": {
      "text/html": [
       "<div>\n",
       "<style scoped>\n",
       "    .dataframe tbody tr th:only-of-type {\n",
       "        vertical-align: middle;\n",
       "    }\n",
       "\n",
       "    .dataframe tbody tr th {\n",
       "        vertical-align: top;\n",
       "    }\n",
       "\n",
       "    .dataframe thead th {\n",
       "        text-align: right;\n",
       "    }\n",
       "</style>\n",
       "<table border=\"1\" class=\"dataframe\">\n",
       "  <thead>\n",
       "    <tr style=\"text-align: right;\">\n",
       "      <th></th>\n",
       "      <th>customer_id</th>\n",
       "      <th>gender</th>\n",
       "      <th>age</th>\n",
       "      <th>annual_income</th>\n",
       "      <th>spending_score</th>\n",
       "      <th>annual_income_outliers</th>\n",
       "      <th>customer_id_outliers</th>\n",
       "      <th>age_outliers</th>\n",
       "      <th>spending_score_outliers</th>\n",
       "      <th>annual_income_outliers_outliers</th>\n",
       "    </tr>\n",
       "  </thead>\n",
       "  <tbody>\n",
       "    <tr>\n",
       "      <th>0</th>\n",
       "      <td>1</td>\n",
       "      <td>Male</td>\n",
       "      <td>19</td>\n",
       "      <td>15</td>\n",
       "      <td>39</td>\n",
       "      <td>0.00</td>\n",
       "      <td>0</td>\n",
       "      <td>0</td>\n",
       "      <td>0</td>\n",
       "      <td>0.00</td>\n",
       "    </tr>\n",
       "    <tr>\n",
       "      <th>1</th>\n",
       "      <td>2</td>\n",
       "      <td>Male</td>\n",
       "      <td>21</td>\n",
       "      <td>15</td>\n",
       "      <td>81</td>\n",
       "      <td>0.00</td>\n",
       "      <td>0</td>\n",
       "      <td>0</td>\n",
       "      <td>0</td>\n",
       "      <td>0.00</td>\n",
       "    </tr>\n",
       "    <tr>\n",
       "      <th>2</th>\n",
       "      <td>3</td>\n",
       "      <td>Female</td>\n",
       "      <td>20</td>\n",
       "      <td>16</td>\n",
       "      <td>6</td>\n",
       "      <td>0.00</td>\n",
       "      <td>0</td>\n",
       "      <td>0</td>\n",
       "      <td>0</td>\n",
       "      <td>0.00</td>\n",
       "    </tr>\n",
       "    <tr>\n",
       "      <th>3</th>\n",
       "      <td>4</td>\n",
       "      <td>Female</td>\n",
       "      <td>23</td>\n",
       "      <td>16</td>\n",
       "      <td>77</td>\n",
       "      <td>0.00</td>\n",
       "      <td>0</td>\n",
       "      <td>0</td>\n",
       "      <td>0</td>\n",
       "      <td>0.00</td>\n",
       "    </tr>\n",
       "    <tr>\n",
       "      <th>4</th>\n",
       "      <td>5</td>\n",
       "      <td>Female</td>\n",
       "      <td>31</td>\n",
       "      <td>17</td>\n",
       "      <td>40</td>\n",
       "      <td>0.00</td>\n",
       "      <td>0</td>\n",
       "      <td>0</td>\n",
       "      <td>0</td>\n",
       "      <td>0.00</td>\n",
       "    </tr>\n",
       "  </tbody>\n",
       "</table>\n",
       "</div>"
      ],
      "text/plain": [
       "   customer_id  gender  age  annual_income  spending_score  \\\n",
       "0            1    Male   19             15              39   \n",
       "1            2    Male   21             15              81   \n",
       "2            3  Female   20             16               6   \n",
       "3            4  Female   23             16              77   \n",
       "4            5  Female   31             17              40   \n",
       "\n",
       "   annual_income_outliers  customer_id_outliers  age_outliers  \\\n",
       "0                    0.00                     0             0   \n",
       "1                    0.00                     0             0   \n",
       "2                    0.00                     0             0   \n",
       "3                    0.00                     0             0   \n",
       "4                    0.00                     0             0   \n",
       "\n",
       "   spending_score_outliers  annual_income_outliers_outliers  \n",
       "0                        0                             0.00  \n",
       "1                        0                             0.00  \n",
       "2                        0                             0.00  \n",
       "3                        0                             0.00  \n",
       "4                        0                             0.00  "
      ]
     },
     "execution_count": 9,
     "metadata": {},
     "output_type": "execute_result"
    }
   ],
   "source": [
    "def get_upper_outliers(s, k):\n",
    "    '''\n",
    "    Given a series and a cutoff value, k, returns the upper outliers for the\n",
    "    series.\n",
    "    \n",
    "    The values returned will be either 0 (if the point is not an outlier), or a\n",
    "    number that indicates how far away from the upper bound the observation is.\n",
    "    '''\n",
    "    q1, q3 = s.quantile([.25, .75])\n",
    "    iqr = q3 - q1\n",
    "    upper_bound = q3 + k * iqr\n",
    "    return s.apply(lambda x: max([x - upper_bound, 0]))\n",
    "\n",
    "def add_upper_outlier_columns(df, k):\n",
    "    '''\n",
    "    Add a column with the suffix _outliers for all the numeric columns\n",
    "    in the given dataframe.\n",
    "    '''\n",
    "    # outlier_cols = {col + '_outliers': get_upper_outliers(df[col], k)\n",
    "    #                 for col in df.select_dtypes('number')}\n",
    "    # return df.assign(**outlier_cols)\n",
    "    \n",
    "    for col in df.select_dtypes('number'):\n",
    "        df[col + '_outliers'] = get_upper_outliers(df[col], k)\n",
    "        \n",
    "    return df\n",
    "\n",
    "add_upper_outlier_columns(df, k=1.5)\n",
    "\n",
    "df.head()"
   ]
  },
  {
   "cell_type": "code",
   "execution_count": 10,
   "id": "cd4dcef1-82d2-4fff-a142-256168a140f4",
   "metadata": {},
   "outputs": [
    {
     "name": "stdout",
     "output_type": "stream",
     "text": [
      "~~~\n",
      "annual_income_outliers\n",
      "count                   2.00\n",
      "mean                    4.25\n",
      "std                     0.00\n",
      "min                     4.25\n",
      "25%                     4.25\n",
      "50%                     4.25\n",
      "75%                     4.25\n",
      "max                     4.25\n",
      "Name: annual_income_outliers, dtype: float64\n",
      "~~~\n",
      "customer_id_outliers\n",
      "count                   0.00\n",
      "mean                     NaN\n",
      "std                      NaN\n",
      "min                      NaN\n",
      "25%                      NaN\n",
      "50%                      NaN\n",
      "75%                      NaN\n",
      "max                      NaN\n",
      "Name: customer_id_outliers, dtype: float64\n",
      "~~~\n",
      "age_outliers\n",
      "count                   0.00\n",
      "mean                     NaN\n",
      "std                      NaN\n",
      "min                      NaN\n",
      "25%                      NaN\n",
      "50%                      NaN\n",
      "75%                      NaN\n",
      "max                      NaN\n",
      "Name: age_outliers, dtype: float64\n",
      "~~~\n",
      "spending_score_outliers\n",
      "count                   0.00\n",
      "mean                     NaN\n",
      "std                      NaN\n",
      "min                      NaN\n",
      "25%                      NaN\n",
      "50%                      NaN\n",
      "75%                      NaN\n",
      "max                      NaN\n",
      "Name: spending_score_outliers, dtype: float64\n",
      "~~~\n",
      "annual_income_outliers_outliers\n",
      "count                   2.00\n",
      "mean                    4.25\n",
      "std                     0.00\n",
      "min                     4.25\n",
      "25%                     4.25\n",
      "50%                     4.25\n",
      "75%                     4.25\n",
      "max                     4.25\n",
      "Name: annual_income_outliers_outliers, dtype: float64\n"
     ]
    }
   ],
   "source": [
    "outlier_cols = [col for col in df if col.endswith('_outliers')]\n",
    "for col in outlier_cols:\n",
    "    print('~~~\\n' + col)\n",
    "    data = df[col][df[col] > 0]\n",
    "    print(data.describe())"
   ]
  },
  {
   "cell_type": "code",
   "execution_count": null,
   "id": "c9a6d735-e94c-4ddd-97e0-79a20622d9b6",
   "metadata": {},
   "outputs": [],
   "source": []
  },
  {
   "cell_type": "markdown",
   "id": "00e4b724-bb25-409b-92c7-8c1b76194044",
   "metadata": {},
   "source": [
    "- 4. Split data (train, validate, and test split)."
   ]
  },
  {
   "cell_type": "code",
   "execution_count": 11,
   "id": "a32bbd32-d0fa-4b0c-b45b-37f53e8644a1",
   "metadata": {},
   "outputs": [
    {
     "name": "stdout",
     "output_type": "stream",
     "text": [
      "train -> (112, 10)\n",
      "validate -> (48, 10)\n",
      "test -> (40, 10)\n"
     ]
    }
   ],
   "source": [
    "train, validate, test = train, validate, test = wrangle_mall.data_split(df, 'spending_score')"
   ]
  },
  {
   "cell_type": "markdown",
   "id": "ff0f012b-0321-4138-a5e4-2c8ebf6d4bbf",
   "metadata": {},
   "source": [
    "- 5. Encode categorical columns using a one hot encoder (pd.get_dummies)."
   ]
  },
  {
   "cell_type": "code",
   "execution_count": null,
   "id": "519fd17c-105b-40db-9b1d-2ad59d9efb4b",
   "metadata": {},
   "outputs": [],
   "source": []
  },
  {
   "cell_type": "markdown",
   "id": "24bff0c7-b936-4b97-bba5-d84e3da13165",
   "metadata": {},
   "source": [
    "- 6. Handles missing values."
   ]
  },
  {
   "cell_type": "code",
   "execution_count": null,
   "id": "5863161d-ea40-46f4-92d1-cc5b0c137ac8",
   "metadata": {},
   "outputs": [],
   "source": []
  },
  {
   "cell_type": "markdown",
   "id": "2b4c0a07-e490-4d0f-a704-e627d02fc51d",
   "metadata": {},
   "source": [
    "- 7. Scaling"
   ]
  },
  {
   "cell_type": "code",
   "execution_count": null,
   "id": "7a3b43b3-bd70-46b7-bfd8-a0c442b50d32",
   "metadata": {},
   "outputs": [],
   "source": []
  },
  {
   "cell_type": "code",
   "execution_count": null,
   "id": "55736578-7658-4c22-92ea-03791ebffa77",
   "metadata": {},
   "outputs": [],
   "source": []
  },
  {
   "cell_type": "markdown",
   "id": "515ac536-7479-49d3-a114-b0b0ac81fd78",
   "metadata": {},
   "source": [
    "wrangle_mall.py\n",
    "- 1. Acquire data from mall_customers.customers in mysql database.\n",
    "- 2. Split the data into train, validate, and split\n",
    "- 3. One-hot-encoding (pd.get_dummies)\n",
    "- 4. Missing values\n",
    "- 5. Scaling\n",
    "- 6. Add, commit, and push all of your work."
   ]
  },
  {
   "cell_type": "code",
   "execution_count": null,
   "id": "7ef8d65e-aa1e-4773-ac85-f68607bcc9e2",
   "metadata": {},
   "outputs": [],
   "source": []
  }
 ],
 "metadata": {
  "kernelspec": {
   "display_name": "Python 3 (ipykernel)",
   "language": "python",
   "name": "python3"
  },
  "language_info": {
   "codemirror_mode": {
    "name": "ipython",
    "version": 3
   },
   "file_extension": ".py",
   "mimetype": "text/x-python",
   "name": "python",
   "nbconvert_exporter": "python",
   "pygments_lexer": "ipython3",
   "version": "3.9.7"
  }
 },
 "nbformat": 4,
 "nbformat_minor": 5
}
