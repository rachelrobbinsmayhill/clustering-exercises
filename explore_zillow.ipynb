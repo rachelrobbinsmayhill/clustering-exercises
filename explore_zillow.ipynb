{
 "cells": [
  {
   "cell_type": "code",
   "execution_count": 1,
   "id": "6a4b0b7c-851a-44d6-bcd5-9d782164f523",
   "metadata": {},
   "outputs": [],
   "source": [
    "from imports import *\n",
    "import acquire\n",
    "import wrangle_zillow\n",
    "\n",
    "# ignore warnings\n",
    "import warnings\n",
    "warnings.filterwarnings(\"ignore\")\n",
    "\n",
    "# Wrangling\n",
    "import pandas as pd\n",
    "import numpy as np\n",
    "from sklearn.model_selection import train_test_split\n",
    "\n",
    "# Statistical Tests\n",
    "import scipy.stats as stats\n",
    "\n",
    "# Visualizing\n",
    "import matplotlib.pyplot as plt\n",
    "from matplotlib import cm\n",
    "import seaborn as sns\n",
    "from sklearn.model_selection import learning_curve"
   ]
  },
  {
   "cell_type": "markdown",
   "id": "abd83bd1-c98c-46d1-8b7a-63da8da4b2f8",
   "metadata": {},
   "source": [
    "# Explore Exercises"
   ]
  },
  {
   "cell_type": "markdown",
   "id": "ace7cf2a-d68a-4bd8-bf3c-c7763debd6d7",
   "metadata": {},
   "source": [
    "## Zillow"
   ]
  },
  {
   "cell_type": "markdown",
   "id": "65c5dc41-f440-4070-bfaf-99d0a515aa8b",
   "metadata": {},
   "source": [
    "Sourcing the Zillow database as the data source, create a jupyter notebook named explore_zillow and do the following:"
   ]
  },
  {
   "cell_type": "code",
   "execution_count": 2,
   "id": "0158a7e4-b424-4180-9ee0-9a99ae5123de",
   "metadata": {},
   "outputs": [
    {
     "name": "stdout",
     "output_type": "stream",
     "text": [
      "Reading from csv file...\n"
     ]
    }
   ],
   "source": [
    "df = wrangle_zillow.get_zillow()"
   ]
  },
  {
   "cell_type": "code",
   "execution_count": 3,
   "id": "4346a0d1-9079-40c2-9afe-63e44058fd14",
   "metadata": {},
   "outputs": [
    {
     "data": {
      "text/plain": [
       "(77381, 67)"
      ]
     },
     "execution_count": 3,
     "metadata": {},
     "output_type": "execute_result"
    }
   ],
   "source": [
    "df.shape"
   ]
  },
  {
   "cell_type": "code",
   "execution_count": 4,
   "id": "743013d1-88c9-4f95-8a81-a404c92737aa",
   "metadata": {},
   "outputs": [
    {
     "data": {
      "text/html": [
       "<div>\n",
       "<style scoped>\n",
       "    .dataframe tbody tr th:only-of-type {\n",
       "        vertical-align: middle;\n",
       "    }\n",
       "\n",
       "    .dataframe tbody tr th {\n",
       "        vertical-align: top;\n",
       "    }\n",
       "\n",
       "    .dataframe thead th {\n",
       "        text-align: right;\n",
       "    }\n",
       "</style>\n",
       "<table border=\"1\" class=\"dataframe\">\n",
       "  <thead>\n",
       "    <tr style=\"text-align: right;\">\n",
       "      <th></th>\n",
       "      <th>0</th>\n",
       "      <th>1</th>\n",
       "      <th>2</th>\n",
       "      <th>3</th>\n",
       "      <th>4</th>\n",
       "    </tr>\n",
       "  </thead>\n",
       "  <tbody>\n",
       "    <tr>\n",
       "      <th>parcelid</th>\n",
       "      <td>14297519</td>\n",
       "      <td>17052889</td>\n",
       "      <td>14186244</td>\n",
       "      <td>12177905</td>\n",
       "      <td>10887214</td>\n",
       "    </tr>\n",
       "    <tr>\n",
       "      <th>airconditioningtypeid</th>\n",
       "      <td>NaN</td>\n",
       "      <td>NaN</td>\n",
       "      <td>NaN</td>\n",
       "      <td>NaN</td>\n",
       "      <td>1.00</td>\n",
       "    </tr>\n",
       "    <tr>\n",
       "      <th>architecturalstyletypeid</th>\n",
       "      <td>NaN</td>\n",
       "      <td>NaN</td>\n",
       "      <td>NaN</td>\n",
       "      <td>NaN</td>\n",
       "      <td>NaN</td>\n",
       "    </tr>\n",
       "    <tr>\n",
       "      <th>basementsqft</th>\n",
       "      <td>NaN</td>\n",
       "      <td>NaN</td>\n",
       "      <td>NaN</td>\n",
       "      <td>NaN</td>\n",
       "      <td>NaN</td>\n",
       "    </tr>\n",
       "    <tr>\n",
       "      <th>bathroomcnt</th>\n",
       "      <td>3.50</td>\n",
       "      <td>1.00</td>\n",
       "      <td>2.00</td>\n",
       "      <td>3.00</td>\n",
       "      <td>3.00</td>\n",
       "    </tr>\n",
       "    <tr>\n",
       "      <th>bedroomcnt</th>\n",
       "      <td>4.00</td>\n",
       "      <td>2.00</td>\n",
       "      <td>3.00</td>\n",
       "      <td>4.00</td>\n",
       "      <td>3.00</td>\n",
       "    </tr>\n",
       "    <tr>\n",
       "      <th>buildingclasstypeid</th>\n",
       "      <td>NaN</td>\n",
       "      <td>NaN</td>\n",
       "      <td>NaN</td>\n",
       "      <td>NaN</td>\n",
       "      <td>NaN</td>\n",
       "    </tr>\n",
       "    <tr>\n",
       "      <th>buildingqualitytypeid</th>\n",
       "      <td>NaN</td>\n",
       "      <td>NaN</td>\n",
       "      <td>NaN</td>\n",
       "      <td>8.00</td>\n",
       "      <td>8.00</td>\n",
       "    </tr>\n",
       "    <tr>\n",
       "      <th>calculatedbathnbr</th>\n",
       "      <td>3.50</td>\n",
       "      <td>1.00</td>\n",
       "      <td>2.00</td>\n",
       "      <td>3.00</td>\n",
       "      <td>3.00</td>\n",
       "    </tr>\n",
       "    <tr>\n",
       "      <th>decktypeid</th>\n",
       "      <td>NaN</td>\n",
       "      <td>NaN</td>\n",
       "      <td>NaN</td>\n",
       "      <td>NaN</td>\n",
       "      <td>NaN</td>\n",
       "    </tr>\n",
       "    <tr>\n",
       "      <th>finishedfloor1squarefeet</th>\n",
       "      <td>NaN</td>\n",
       "      <td>1,465.00</td>\n",
       "      <td>NaN</td>\n",
       "      <td>NaN</td>\n",
       "      <td>NaN</td>\n",
       "    </tr>\n",
       "    <tr>\n",
       "      <th>calculatedfinishedsquarefeet</th>\n",
       "      <td>3,100.00</td>\n",
       "      <td>1,465.00</td>\n",
       "      <td>1,243.00</td>\n",
       "      <td>2,376.00</td>\n",
       "      <td>1,312.00</td>\n",
       "    </tr>\n",
       "    <tr>\n",
       "      <th>finishedsquarefeet12</th>\n",
       "      <td>3,100.00</td>\n",
       "      <td>1,465.00</td>\n",
       "      <td>1,243.00</td>\n",
       "      <td>2,376.00</td>\n",
       "      <td>1,312.00</td>\n",
       "    </tr>\n",
       "    <tr>\n",
       "      <th>finishedsquarefeet13</th>\n",
       "      <td>NaN</td>\n",
       "      <td>NaN</td>\n",
       "      <td>NaN</td>\n",
       "      <td>NaN</td>\n",
       "      <td>NaN</td>\n",
       "    </tr>\n",
       "    <tr>\n",
       "      <th>finishedsquarefeet15</th>\n",
       "      <td>NaN</td>\n",
       "      <td>NaN</td>\n",
       "      <td>NaN</td>\n",
       "      <td>NaN</td>\n",
       "      <td>NaN</td>\n",
       "    </tr>\n",
       "    <tr>\n",
       "      <th>finishedsquarefeet50</th>\n",
       "      <td>NaN</td>\n",
       "      <td>1,465.00</td>\n",
       "      <td>NaN</td>\n",
       "      <td>NaN</td>\n",
       "      <td>NaN</td>\n",
       "    </tr>\n",
       "    <tr>\n",
       "      <th>finishedsquarefeet6</th>\n",
       "      <td>NaN</td>\n",
       "      <td>NaN</td>\n",
       "      <td>NaN</td>\n",
       "      <td>NaN</td>\n",
       "      <td>NaN</td>\n",
       "    </tr>\n",
       "    <tr>\n",
       "      <th>fips</th>\n",
       "      <td>6,059.00</td>\n",
       "      <td>6,111.00</td>\n",
       "      <td>6,059.00</td>\n",
       "      <td>6,037.00</td>\n",
       "      <td>6,037.00</td>\n",
       "    </tr>\n",
       "    <tr>\n",
       "      <th>fireplacecnt</th>\n",
       "      <td>NaN</td>\n",
       "      <td>1.00</td>\n",
       "      <td>NaN</td>\n",
       "      <td>NaN</td>\n",
       "      <td>NaN</td>\n",
       "    </tr>\n",
       "    <tr>\n",
       "      <th>fullbathcnt</th>\n",
       "      <td>3.00</td>\n",
       "      <td>1.00</td>\n",
       "      <td>2.00</td>\n",
       "      <td>3.00</td>\n",
       "      <td>3.00</td>\n",
       "    </tr>\n",
       "    <tr>\n",
       "      <th>garagecarcnt</th>\n",
       "      <td>2.00</td>\n",
       "      <td>1.00</td>\n",
       "      <td>2.00</td>\n",
       "      <td>NaN</td>\n",
       "      <td>NaN</td>\n",
       "    </tr>\n",
       "    <tr>\n",
       "      <th>garagetotalsqft</th>\n",
       "      <td>633.00</td>\n",
       "      <td>0.00</td>\n",
       "      <td>440.00</td>\n",
       "      <td>NaN</td>\n",
       "      <td>NaN</td>\n",
       "    </tr>\n",
       "    <tr>\n",
       "      <th>hashottuborspa</th>\n",
       "      <td>NaN</td>\n",
       "      <td>NaN</td>\n",
       "      <td>NaN</td>\n",
       "      <td>NaN</td>\n",
       "      <td>NaN</td>\n",
       "    </tr>\n",
       "    <tr>\n",
       "      <th>heatingorsystemtypeid</th>\n",
       "      <td>NaN</td>\n",
       "      <td>NaN</td>\n",
       "      <td>NaN</td>\n",
       "      <td>2.00</td>\n",
       "      <td>2.00</td>\n",
       "    </tr>\n",
       "    <tr>\n",
       "      <th>latitude</th>\n",
       "      <td>33,634,931.00</td>\n",
       "      <td>34,449,266.00</td>\n",
       "      <td>33,886,168.00</td>\n",
       "      <td>34,245,180.00</td>\n",
       "      <td>34,185,120.00</td>\n",
       "    </tr>\n",
       "    <tr>\n",
       "      <th>longitude</th>\n",
       "      <td>-117,869,207.00</td>\n",
       "      <td>-119,281,531.00</td>\n",
       "      <td>-117,823,170.00</td>\n",
       "      <td>-118,240,722.00</td>\n",
       "      <td>-118,414,640.00</td>\n",
       "    </tr>\n",
       "    <tr>\n",
       "      <th>lotsizesquarefeet</th>\n",
       "      <td>4,506.00</td>\n",
       "      <td>12,647.00</td>\n",
       "      <td>8,432.00</td>\n",
       "      <td>13,038.00</td>\n",
       "      <td>278,581.00</td>\n",
       "    </tr>\n",
       "    <tr>\n",
       "      <th>poolcnt</th>\n",
       "      <td>NaN</td>\n",
       "      <td>NaN</td>\n",
       "      <td>1.00</td>\n",
       "      <td>1.00</td>\n",
       "      <td>1.00</td>\n",
       "    </tr>\n",
       "    <tr>\n",
       "      <th>poolsizesum</th>\n",
       "      <td>NaN</td>\n",
       "      <td>NaN</td>\n",
       "      <td>NaN</td>\n",
       "      <td>NaN</td>\n",
       "      <td>NaN</td>\n",
       "    </tr>\n",
       "    <tr>\n",
       "      <th>pooltypeid10</th>\n",
       "      <td>NaN</td>\n",
       "      <td>NaN</td>\n",
       "      <td>NaN</td>\n",
       "      <td>NaN</td>\n",
       "      <td>NaN</td>\n",
       "    </tr>\n",
       "    <tr>\n",
       "      <th>pooltypeid2</th>\n",
       "      <td>NaN</td>\n",
       "      <td>NaN</td>\n",
       "      <td>NaN</td>\n",
       "      <td>NaN</td>\n",
       "      <td>NaN</td>\n",
       "    </tr>\n",
       "    <tr>\n",
       "      <th>pooltypeid7</th>\n",
       "      <td>NaN</td>\n",
       "      <td>NaN</td>\n",
       "      <td>1.00</td>\n",
       "      <td>1.00</td>\n",
       "      <td>1.00</td>\n",
       "    </tr>\n",
       "    <tr>\n",
       "      <th>propertycountylandusecode</th>\n",
       "      <td>122</td>\n",
       "      <td>1110</td>\n",
       "      <td>122</td>\n",
       "      <td>0101</td>\n",
       "      <td>010C</td>\n",
       "    </tr>\n",
       "    <tr>\n",
       "      <th>propertylandusetypeid</th>\n",
       "      <td>261.00</td>\n",
       "      <td>261.00</td>\n",
       "      <td>261.00</td>\n",
       "      <td>261.00</td>\n",
       "      <td>266.00</td>\n",
       "    </tr>\n",
       "    <tr>\n",
       "      <th>propertyzoningdesc</th>\n",
       "      <td>NaN</td>\n",
       "      <td>NaN</td>\n",
       "      <td>NaN</td>\n",
       "      <td>LCR110000*</td>\n",
       "      <td>LAR3</td>\n",
       "    </tr>\n",
       "    <tr>\n",
       "      <th>rawcensustractandblock</th>\n",
       "      <td>60,590,630.07</td>\n",
       "      <td>61,110,010.02</td>\n",
       "      <td>60,590,218.02</td>\n",
       "      <td>60,373,001.00</td>\n",
       "      <td>60,371,236.01</td>\n",
       "    </tr>\n",
       "    <tr>\n",
       "      <th>regionidcity</th>\n",
       "      <td>53,571.00</td>\n",
       "      <td>13,091.00</td>\n",
       "      <td>21,412.00</td>\n",
       "      <td>396,551.00</td>\n",
       "      <td>12,447.00</td>\n",
       "    </tr>\n",
       "    <tr>\n",
       "      <th>regionidcounty</th>\n",
       "      <td>1,286.00</td>\n",
       "      <td>2,061.00</td>\n",
       "      <td>1,286.00</td>\n",
       "      <td>3,101.00</td>\n",
       "      <td>3,101.00</td>\n",
       "    </tr>\n",
       "    <tr>\n",
       "      <th>regionidneighborhood</th>\n",
       "      <td>NaN</td>\n",
       "      <td>NaN</td>\n",
       "      <td>NaN</td>\n",
       "      <td>NaN</td>\n",
       "      <td>268,548.00</td>\n",
       "    </tr>\n",
       "    <tr>\n",
       "      <th>regionidzip</th>\n",
       "      <td>96,978.00</td>\n",
       "      <td>97,099.00</td>\n",
       "      <td>97,078.00</td>\n",
       "      <td>96,330.00</td>\n",
       "      <td>96,451.00</td>\n",
       "    </tr>\n",
       "    <tr>\n",
       "      <th>roomcnt</th>\n",
       "      <td>0.00</td>\n",
       "      <td>5.00</td>\n",
       "      <td>6.00</td>\n",
       "      <td>0.00</td>\n",
       "      <td>0.00</td>\n",
       "    </tr>\n",
       "    <tr>\n",
       "      <th>storytypeid</th>\n",
       "      <td>NaN</td>\n",
       "      <td>NaN</td>\n",
       "      <td>NaN</td>\n",
       "      <td>NaN</td>\n",
       "      <td>NaN</td>\n",
       "    </tr>\n",
       "    <tr>\n",
       "      <th>threequarterbathnbr</th>\n",
       "      <td>1.00</td>\n",
       "      <td>NaN</td>\n",
       "      <td>NaN</td>\n",
       "      <td>NaN</td>\n",
       "      <td>NaN</td>\n",
       "    </tr>\n",
       "    <tr>\n",
       "      <th>typeconstructiontypeid</th>\n",
       "      <td>NaN</td>\n",
       "      <td>NaN</td>\n",
       "      <td>NaN</td>\n",
       "      <td>NaN</td>\n",
       "      <td>NaN</td>\n",
       "    </tr>\n",
       "    <tr>\n",
       "      <th>unitcnt</th>\n",
       "      <td>NaN</td>\n",
       "      <td>NaN</td>\n",
       "      <td>NaN</td>\n",
       "      <td>1.00</td>\n",
       "      <td>1.00</td>\n",
       "    </tr>\n",
       "    <tr>\n",
       "      <th>yardbuildingsqft17</th>\n",
       "      <td>NaN</td>\n",
       "      <td>NaN</td>\n",
       "      <td>NaN</td>\n",
       "      <td>NaN</td>\n",
       "      <td>NaN</td>\n",
       "    </tr>\n",
       "    <tr>\n",
       "      <th>yardbuildingsqft26</th>\n",
       "      <td>NaN</td>\n",
       "      <td>NaN</td>\n",
       "      <td>NaN</td>\n",
       "      <td>NaN</td>\n",
       "      <td>NaN</td>\n",
       "    </tr>\n",
       "    <tr>\n",
       "      <th>yearbuilt</th>\n",
       "      <td>1,998.00</td>\n",
       "      <td>1,967.00</td>\n",
       "      <td>1,962.00</td>\n",
       "      <td>1,970.00</td>\n",
       "      <td>1,964.00</td>\n",
       "    </tr>\n",
       "    <tr>\n",
       "      <th>numberofstories</th>\n",
       "      <td>NaN</td>\n",
       "      <td>1.00</td>\n",
       "      <td>1.00</td>\n",
       "      <td>NaN</td>\n",
       "      <td>NaN</td>\n",
       "    </tr>\n",
       "    <tr>\n",
       "      <th>fireplaceflag</th>\n",
       "      <td>NaN</td>\n",
       "      <td>NaN</td>\n",
       "      <td>NaN</td>\n",
       "      <td>NaN</td>\n",
       "      <td>NaN</td>\n",
       "    </tr>\n",
       "    <tr>\n",
       "      <th>structuretaxvaluedollarcnt</th>\n",
       "      <td>485,713.00</td>\n",
       "      <td>88,000.00</td>\n",
       "      <td>85,289.00</td>\n",
       "      <td>108,918.00</td>\n",
       "      <td>73,681.00</td>\n",
       "    </tr>\n",
       "    <tr>\n",
       "      <th>taxvaluedollarcnt</th>\n",
       "      <td>1,023,282.00</td>\n",
       "      <td>464,000.00</td>\n",
       "      <td>564,778.00</td>\n",
       "      <td>145,143.00</td>\n",
       "      <td>119,407.00</td>\n",
       "    </tr>\n",
       "    <tr>\n",
       "      <th>assessmentyear</th>\n",
       "      <td>2,016.00</td>\n",
       "      <td>2,016.00</td>\n",
       "      <td>2,016.00</td>\n",
       "      <td>2,016.00</td>\n",
       "      <td>2,016.00</td>\n",
       "    </tr>\n",
       "    <tr>\n",
       "      <th>landtaxvaluedollarcnt</th>\n",
       "      <td>537,569.00</td>\n",
       "      <td>376,000.00</td>\n",
       "      <td>479,489.00</td>\n",
       "      <td>36,225.00</td>\n",
       "      <td>45,726.00</td>\n",
       "    </tr>\n",
       "    <tr>\n",
       "      <th>taxamount</th>\n",
       "      <td>11,013.72</td>\n",
       "      <td>5,672.48</td>\n",
       "      <td>6,488.30</td>\n",
       "      <td>1,777.51</td>\n",
       "      <td>1,533.89</td>\n",
       "    </tr>\n",
       "    <tr>\n",
       "      <th>taxdelinquencyflag</th>\n",
       "      <td>NaN</td>\n",
       "      <td>NaN</td>\n",
       "      <td>NaN</td>\n",
       "      <td>NaN</td>\n",
       "      <td>NaN</td>\n",
       "    </tr>\n",
       "    <tr>\n",
       "      <th>taxdelinquencyyear</th>\n",
       "      <td>NaN</td>\n",
       "      <td>NaN</td>\n",
       "      <td>NaN</td>\n",
       "      <td>NaN</td>\n",
       "      <td>NaN</td>\n",
       "    </tr>\n",
       "    <tr>\n",
       "      <th>censustractandblock</th>\n",
       "      <td>60,590,630,072,012.00</td>\n",
       "      <td>61,110,010,023,006.00</td>\n",
       "      <td>60,590,218,022,012.00</td>\n",
       "      <td>60,373,001,001,006.00</td>\n",
       "      <td>60,371,236,012,000.00</td>\n",
       "    </tr>\n",
       "    <tr>\n",
       "      <th>logerror</th>\n",
       "      <td>0.03</td>\n",
       "      <td>0.06</td>\n",
       "      <td>0.01</td>\n",
       "      <td>-0.10</td>\n",
       "      <td>0.01</td>\n",
       "    </tr>\n",
       "    <tr>\n",
       "      <th>transactiondate</th>\n",
       "      <td>2017-01-01</td>\n",
       "      <td>2017-01-01</td>\n",
       "      <td>2017-01-01</td>\n",
       "      <td>2017-01-01</td>\n",
       "      <td>2017-01-01</td>\n",
       "    </tr>\n",
       "    <tr>\n",
       "      <th>airconditioningdesc</th>\n",
       "      <td>NaN</td>\n",
       "      <td>NaN</td>\n",
       "      <td>NaN</td>\n",
       "      <td>NaN</td>\n",
       "      <td>Central</td>\n",
       "    </tr>\n",
       "    <tr>\n",
       "      <th>architecturalstyledesc</th>\n",
       "      <td>NaN</td>\n",
       "      <td>NaN</td>\n",
       "      <td>NaN</td>\n",
       "      <td>NaN</td>\n",
       "      <td>NaN</td>\n",
       "    </tr>\n",
       "    <tr>\n",
       "      <th>buildingclassdesc</th>\n",
       "      <td>NaN</td>\n",
       "      <td>NaN</td>\n",
       "      <td>NaN</td>\n",
       "      <td>NaN</td>\n",
       "      <td>NaN</td>\n",
       "    </tr>\n",
       "    <tr>\n",
       "      <th>heatingorsystemdesc</th>\n",
       "      <td>NaN</td>\n",
       "      <td>NaN</td>\n",
       "      <td>NaN</td>\n",
       "      <td>Central</td>\n",
       "      <td>Central</td>\n",
       "    </tr>\n",
       "    <tr>\n",
       "      <th>propertylandusedesc</th>\n",
       "      <td>Single Family Residential</td>\n",
       "      <td>Single Family Residential</td>\n",
       "      <td>Single Family Residential</td>\n",
       "      <td>Single Family Residential</td>\n",
       "      <td>Condominium</td>\n",
       "    </tr>\n",
       "    <tr>\n",
       "      <th>storydesc</th>\n",
       "      <td>NaN</td>\n",
       "      <td>NaN</td>\n",
       "      <td>NaN</td>\n",
       "      <td>NaN</td>\n",
       "      <td>NaN</td>\n",
       "    </tr>\n",
       "    <tr>\n",
       "      <th>typeconstructiondesc</th>\n",
       "      <td>NaN</td>\n",
       "      <td>NaN</td>\n",
       "      <td>NaN</td>\n",
       "      <td>NaN</td>\n",
       "      <td>NaN</td>\n",
       "    </tr>\n",
       "  </tbody>\n",
       "</table>\n",
       "</div>"
      ],
      "text/plain": [
       "                                                      0  \\\n",
       "parcelid                                       14297519   \n",
       "airconditioningtypeid                               NaN   \n",
       "architecturalstyletypeid                            NaN   \n",
       "basementsqft                                        NaN   \n",
       "bathroomcnt                                        3.50   \n",
       "bedroomcnt                                         4.00   \n",
       "buildingclasstypeid                                 NaN   \n",
       "buildingqualitytypeid                               NaN   \n",
       "calculatedbathnbr                                  3.50   \n",
       "decktypeid                                          NaN   \n",
       "finishedfloor1squarefeet                            NaN   \n",
       "calculatedfinishedsquarefeet                   3,100.00   \n",
       "finishedsquarefeet12                           3,100.00   \n",
       "finishedsquarefeet13                                NaN   \n",
       "finishedsquarefeet15                                NaN   \n",
       "finishedsquarefeet50                                NaN   \n",
       "finishedsquarefeet6                                 NaN   \n",
       "fips                                           6,059.00   \n",
       "fireplacecnt                                        NaN   \n",
       "fullbathcnt                                        3.00   \n",
       "garagecarcnt                                       2.00   \n",
       "garagetotalsqft                                  633.00   \n",
       "hashottuborspa                                      NaN   \n",
       "heatingorsystemtypeid                               NaN   \n",
       "latitude                                  33,634,931.00   \n",
       "longitude                               -117,869,207.00   \n",
       "lotsizesquarefeet                              4,506.00   \n",
       "poolcnt                                             NaN   \n",
       "poolsizesum                                         NaN   \n",
       "pooltypeid10                                        NaN   \n",
       "pooltypeid2                                         NaN   \n",
       "pooltypeid7                                         NaN   \n",
       "propertycountylandusecode                           122   \n",
       "propertylandusetypeid                            261.00   \n",
       "propertyzoningdesc                                  NaN   \n",
       "rawcensustractandblock                    60,590,630.07   \n",
       "regionidcity                                  53,571.00   \n",
       "regionidcounty                                 1,286.00   \n",
       "regionidneighborhood                                NaN   \n",
       "regionidzip                                   96,978.00   \n",
       "roomcnt                                            0.00   \n",
       "storytypeid                                         NaN   \n",
       "threequarterbathnbr                                1.00   \n",
       "typeconstructiontypeid                              NaN   \n",
       "unitcnt                                             NaN   \n",
       "yardbuildingsqft17                                  NaN   \n",
       "yardbuildingsqft26                                  NaN   \n",
       "yearbuilt                                      1,998.00   \n",
       "numberofstories                                     NaN   \n",
       "fireplaceflag                                       NaN   \n",
       "structuretaxvaluedollarcnt                   485,713.00   \n",
       "taxvaluedollarcnt                          1,023,282.00   \n",
       "assessmentyear                                 2,016.00   \n",
       "landtaxvaluedollarcnt                        537,569.00   \n",
       "taxamount                                     11,013.72   \n",
       "taxdelinquencyflag                                  NaN   \n",
       "taxdelinquencyyear                                  NaN   \n",
       "censustractandblock               60,590,630,072,012.00   \n",
       "logerror                                           0.03   \n",
       "transactiondate                              2017-01-01   \n",
       "airconditioningdesc                                 NaN   \n",
       "architecturalstyledesc                              NaN   \n",
       "buildingclassdesc                                   NaN   \n",
       "heatingorsystemdesc                                 NaN   \n",
       "propertylandusedesc           Single Family Residential   \n",
       "storydesc                                           NaN   \n",
       "typeconstructiondesc                                NaN   \n",
       "\n",
       "                                                      1  \\\n",
       "parcelid                                       17052889   \n",
       "airconditioningtypeid                               NaN   \n",
       "architecturalstyletypeid                            NaN   \n",
       "basementsqft                                        NaN   \n",
       "bathroomcnt                                        1.00   \n",
       "bedroomcnt                                         2.00   \n",
       "buildingclasstypeid                                 NaN   \n",
       "buildingqualitytypeid                               NaN   \n",
       "calculatedbathnbr                                  1.00   \n",
       "decktypeid                                          NaN   \n",
       "finishedfloor1squarefeet                       1,465.00   \n",
       "calculatedfinishedsquarefeet                   1,465.00   \n",
       "finishedsquarefeet12                           1,465.00   \n",
       "finishedsquarefeet13                                NaN   \n",
       "finishedsquarefeet15                                NaN   \n",
       "finishedsquarefeet50                           1,465.00   \n",
       "finishedsquarefeet6                                 NaN   \n",
       "fips                                           6,111.00   \n",
       "fireplacecnt                                       1.00   \n",
       "fullbathcnt                                        1.00   \n",
       "garagecarcnt                                       1.00   \n",
       "garagetotalsqft                                    0.00   \n",
       "hashottuborspa                                      NaN   \n",
       "heatingorsystemtypeid                               NaN   \n",
       "latitude                                  34,449,266.00   \n",
       "longitude                               -119,281,531.00   \n",
       "lotsizesquarefeet                             12,647.00   \n",
       "poolcnt                                             NaN   \n",
       "poolsizesum                                         NaN   \n",
       "pooltypeid10                                        NaN   \n",
       "pooltypeid2                                         NaN   \n",
       "pooltypeid7                                         NaN   \n",
       "propertycountylandusecode                          1110   \n",
       "propertylandusetypeid                            261.00   \n",
       "propertyzoningdesc                                  NaN   \n",
       "rawcensustractandblock                    61,110,010.02   \n",
       "regionidcity                                  13,091.00   \n",
       "regionidcounty                                 2,061.00   \n",
       "regionidneighborhood                                NaN   \n",
       "regionidzip                                   97,099.00   \n",
       "roomcnt                                            5.00   \n",
       "storytypeid                                         NaN   \n",
       "threequarterbathnbr                                 NaN   \n",
       "typeconstructiontypeid                              NaN   \n",
       "unitcnt                                             NaN   \n",
       "yardbuildingsqft17                                  NaN   \n",
       "yardbuildingsqft26                                  NaN   \n",
       "yearbuilt                                      1,967.00   \n",
       "numberofstories                                    1.00   \n",
       "fireplaceflag                                       NaN   \n",
       "structuretaxvaluedollarcnt                    88,000.00   \n",
       "taxvaluedollarcnt                            464,000.00   \n",
       "assessmentyear                                 2,016.00   \n",
       "landtaxvaluedollarcnt                        376,000.00   \n",
       "taxamount                                      5,672.48   \n",
       "taxdelinquencyflag                                  NaN   \n",
       "taxdelinquencyyear                                  NaN   \n",
       "censustractandblock               61,110,010,023,006.00   \n",
       "logerror                                           0.06   \n",
       "transactiondate                              2017-01-01   \n",
       "airconditioningdesc                                 NaN   \n",
       "architecturalstyledesc                              NaN   \n",
       "buildingclassdesc                                   NaN   \n",
       "heatingorsystemdesc                                 NaN   \n",
       "propertylandusedesc           Single Family Residential   \n",
       "storydesc                                           NaN   \n",
       "typeconstructiondesc                                NaN   \n",
       "\n",
       "                                                      2  \\\n",
       "parcelid                                       14186244   \n",
       "airconditioningtypeid                               NaN   \n",
       "architecturalstyletypeid                            NaN   \n",
       "basementsqft                                        NaN   \n",
       "bathroomcnt                                        2.00   \n",
       "bedroomcnt                                         3.00   \n",
       "buildingclasstypeid                                 NaN   \n",
       "buildingqualitytypeid                               NaN   \n",
       "calculatedbathnbr                                  2.00   \n",
       "decktypeid                                          NaN   \n",
       "finishedfloor1squarefeet                            NaN   \n",
       "calculatedfinishedsquarefeet                   1,243.00   \n",
       "finishedsquarefeet12                           1,243.00   \n",
       "finishedsquarefeet13                                NaN   \n",
       "finishedsquarefeet15                                NaN   \n",
       "finishedsquarefeet50                                NaN   \n",
       "finishedsquarefeet6                                 NaN   \n",
       "fips                                           6,059.00   \n",
       "fireplacecnt                                        NaN   \n",
       "fullbathcnt                                        2.00   \n",
       "garagecarcnt                                       2.00   \n",
       "garagetotalsqft                                  440.00   \n",
       "hashottuborspa                                      NaN   \n",
       "heatingorsystemtypeid                               NaN   \n",
       "latitude                                  33,886,168.00   \n",
       "longitude                               -117,823,170.00   \n",
       "lotsizesquarefeet                              8,432.00   \n",
       "poolcnt                                            1.00   \n",
       "poolsizesum                                         NaN   \n",
       "pooltypeid10                                        NaN   \n",
       "pooltypeid2                                         NaN   \n",
       "pooltypeid7                                        1.00   \n",
       "propertycountylandusecode                           122   \n",
       "propertylandusetypeid                            261.00   \n",
       "propertyzoningdesc                                  NaN   \n",
       "rawcensustractandblock                    60,590,218.02   \n",
       "regionidcity                                  21,412.00   \n",
       "regionidcounty                                 1,286.00   \n",
       "regionidneighborhood                                NaN   \n",
       "regionidzip                                   97,078.00   \n",
       "roomcnt                                            6.00   \n",
       "storytypeid                                         NaN   \n",
       "threequarterbathnbr                                 NaN   \n",
       "typeconstructiontypeid                              NaN   \n",
       "unitcnt                                             NaN   \n",
       "yardbuildingsqft17                                  NaN   \n",
       "yardbuildingsqft26                                  NaN   \n",
       "yearbuilt                                      1,962.00   \n",
       "numberofstories                                    1.00   \n",
       "fireplaceflag                                       NaN   \n",
       "structuretaxvaluedollarcnt                    85,289.00   \n",
       "taxvaluedollarcnt                            564,778.00   \n",
       "assessmentyear                                 2,016.00   \n",
       "landtaxvaluedollarcnt                        479,489.00   \n",
       "taxamount                                      6,488.30   \n",
       "taxdelinquencyflag                                  NaN   \n",
       "taxdelinquencyyear                                  NaN   \n",
       "censustractandblock               60,590,218,022,012.00   \n",
       "logerror                                           0.01   \n",
       "transactiondate                              2017-01-01   \n",
       "airconditioningdesc                                 NaN   \n",
       "architecturalstyledesc                              NaN   \n",
       "buildingclassdesc                                   NaN   \n",
       "heatingorsystemdesc                                 NaN   \n",
       "propertylandusedesc           Single Family Residential   \n",
       "storydesc                                           NaN   \n",
       "typeconstructiondesc                                NaN   \n",
       "\n",
       "                                                      3                     4  \n",
       "parcelid                                       12177905              10887214  \n",
       "airconditioningtypeid                               NaN                  1.00  \n",
       "architecturalstyletypeid                            NaN                   NaN  \n",
       "basementsqft                                        NaN                   NaN  \n",
       "bathroomcnt                                        3.00                  3.00  \n",
       "bedroomcnt                                         4.00                  3.00  \n",
       "buildingclasstypeid                                 NaN                   NaN  \n",
       "buildingqualitytypeid                              8.00                  8.00  \n",
       "calculatedbathnbr                                  3.00                  3.00  \n",
       "decktypeid                                          NaN                   NaN  \n",
       "finishedfloor1squarefeet                            NaN                   NaN  \n",
       "calculatedfinishedsquarefeet                   2,376.00              1,312.00  \n",
       "finishedsquarefeet12                           2,376.00              1,312.00  \n",
       "finishedsquarefeet13                                NaN                   NaN  \n",
       "finishedsquarefeet15                                NaN                   NaN  \n",
       "finishedsquarefeet50                                NaN                   NaN  \n",
       "finishedsquarefeet6                                 NaN                   NaN  \n",
       "fips                                           6,037.00              6,037.00  \n",
       "fireplacecnt                                        NaN                   NaN  \n",
       "fullbathcnt                                        3.00                  3.00  \n",
       "garagecarcnt                                        NaN                   NaN  \n",
       "garagetotalsqft                                     NaN                   NaN  \n",
       "hashottuborspa                                      NaN                   NaN  \n",
       "heatingorsystemtypeid                              2.00                  2.00  \n",
       "latitude                                  34,245,180.00         34,185,120.00  \n",
       "longitude                               -118,240,722.00       -118,414,640.00  \n",
       "lotsizesquarefeet                             13,038.00            278,581.00  \n",
       "poolcnt                                            1.00                  1.00  \n",
       "poolsizesum                                         NaN                   NaN  \n",
       "pooltypeid10                                        NaN                   NaN  \n",
       "pooltypeid2                                         NaN                   NaN  \n",
       "pooltypeid7                                        1.00                  1.00  \n",
       "propertycountylandusecode                          0101                  010C  \n",
       "propertylandusetypeid                            261.00                266.00  \n",
       "propertyzoningdesc                           LCR110000*                  LAR3  \n",
       "rawcensustractandblock                    60,373,001.00         60,371,236.01  \n",
       "regionidcity                                 396,551.00             12,447.00  \n",
       "regionidcounty                                 3,101.00              3,101.00  \n",
       "regionidneighborhood                                NaN            268,548.00  \n",
       "regionidzip                                   96,330.00             96,451.00  \n",
       "roomcnt                                            0.00                  0.00  \n",
       "storytypeid                                         NaN                   NaN  \n",
       "threequarterbathnbr                                 NaN                   NaN  \n",
       "typeconstructiontypeid                              NaN                   NaN  \n",
       "unitcnt                                            1.00                  1.00  \n",
       "yardbuildingsqft17                                  NaN                   NaN  \n",
       "yardbuildingsqft26                                  NaN                   NaN  \n",
       "yearbuilt                                      1,970.00              1,964.00  \n",
       "numberofstories                                     NaN                   NaN  \n",
       "fireplaceflag                                       NaN                   NaN  \n",
       "structuretaxvaluedollarcnt                   108,918.00             73,681.00  \n",
       "taxvaluedollarcnt                            145,143.00            119,407.00  \n",
       "assessmentyear                                 2,016.00              2,016.00  \n",
       "landtaxvaluedollarcnt                         36,225.00             45,726.00  \n",
       "taxamount                                      1,777.51              1,533.89  \n",
       "taxdelinquencyflag                                  NaN                   NaN  \n",
       "taxdelinquencyyear                                  NaN                   NaN  \n",
       "censustractandblock               60,373,001,001,006.00 60,371,236,012,000.00  \n",
       "logerror                                          -0.10                  0.01  \n",
       "transactiondate                              2017-01-01            2017-01-01  \n",
       "airconditioningdesc                                 NaN               Central  \n",
       "architecturalstyledesc                              NaN                   NaN  \n",
       "buildingclassdesc                                   NaN                   NaN  \n",
       "heatingorsystemdesc                             Central               Central  \n",
       "propertylandusedesc           Single Family Residential           Condominium  \n",
       "storydesc                                           NaN                   NaN  \n",
       "typeconstructiondesc                                NaN                   NaN  "
      ]
     },
     "execution_count": 4,
     "metadata": {},
     "output_type": "execute_result"
    }
   ],
   "source": [
    "df.head().T"
   ]
  },
  {
   "cell_type": "code",
   "execution_count": 5,
   "id": "8fa39709-82d7-4a8c-9b9a-a0766bded7dc",
   "metadata": {},
   "outputs": [
    {
     "data": {
      "text/plain": [
       "(77381, 33)"
      ]
     },
     "execution_count": 5,
     "metadata": {},
     "output_type": "execute_result"
    }
   ],
   "source": [
    "df = wrangle_zillow.data_prep(df)\n",
    "df.shape"
   ]
  },
  {
   "cell_type": "code",
   "execution_count": 6,
   "id": "1db2a246-eef3-4321-a6ee-0934e38497ed",
   "metadata": {},
   "outputs": [
    {
     "data": {
      "text/plain": [
       "parcelid                             0\n",
       "bathroomcnt                          0\n",
       "bedroomcnt                           0\n",
       "calculatedbathnbr                  609\n",
       "calculatedfinishedsquarefeet       196\n",
       "fips                                 0\n",
       "fullbathcnt                        609\n",
       "latitude                             0\n",
       "longitude                            0\n",
       "lotsizesquarefeet                 8239\n",
       "propertycountylandusecode            0\n",
       "propertylandusetypeid                0\n",
       "rawcensustractandblock               0\n",
       "regionidcity                      1471\n",
       "regionidcounty                       0\n",
       "regionidzip                         50\n",
       "roomcnt                              0\n",
       "yearbuilt                          263\n",
       "structuretaxvaluedollarcnt         112\n",
       "taxvaluedollarcnt                    1\n",
       "assessmentyear                       0\n",
       "landtaxvaluedollarcnt                2\n",
       "taxamount                            5\n",
       "logerror                             0\n",
       "transactiondate                      0\n",
       "propertylandusedesc                  0\n",
       "county_code_bin                      0\n",
       "county_code_bin_Orange County        0\n",
       "county_code_bin_Ventura County       0\n",
       "home_sizes                         197\n",
       "total_rooms                          0\n",
       "bedroom_bins                       831\n",
       "bathroom_bins                      593\n",
       "dtype: int64"
      ]
     },
     "execution_count": 6,
     "metadata": {},
     "output_type": "execute_result"
    }
   ],
   "source": [
    "df.isna().sum()"
   ]
  },
  {
   "cell_type": "code",
   "execution_count": null,
   "id": "a4c1a158-7a54-4a01-b18b-88369f93f083",
   "metadata": {},
   "outputs": [],
   "source": [
    "df.county_code_bin.value_counts()"
   ]
  },
  {
   "cell_type": "code",
   "execution_count": 8,
   "id": "d46ef626-940d-4bfa-b52e-76fe1fc9b766",
   "metadata": {},
   "outputs": [],
   "source": [
    "#cols_to_explore = ['unitcnt'sqft', 'yearbuilt', ...]\n",
    "\n",
    "#df = df[cols_to_explore]"
   ]
  },
  {
   "cell_type": "code",
   "execution_count": null,
   "id": "801378ce-ea23-4744-ae45-132166d6c844",
   "metadata": {},
   "outputs": [],
   "source": [
    "df = df.dropna()"
   ]
  },
  {
   "cell_type": "code",
   "execution_count": null,
   "id": "c76c1742-9636-4096-ac2b-02f8e83c0d5d",
   "metadata": {},
   "outputs": [],
   "source": [
    "df.shape"
   ]
  },
  {
   "cell_type": "code",
   "execution_count": null,
   "id": "9bb34785-5a6a-45b7-930d-942556665502",
   "metadata": {},
   "outputs": [],
   "source": [
    "df.county_code_bin.value_counts()"
   ]
  },
  {
   "cell_type": "markdown",
   "id": "698c2e58-6600-4d40-9d05-e87faf0a8df5",
   "metadata": {},
   "source": [
    "### 1. 5 questions\n",
    "- Ask at least 5 questions about the data, \n",
    "- keeping in mind that your target variable is logerror. \n",
    "    - e.g. Is logerror significantly different for properties in LA County vs Orange County vs Ventura County?\n",
    "\n",
    "Answer those questions through a mix of statistical tests and visualizations."
   ]
  },
  {
   "cell_type": "markdown",
   "id": "66874ae4-c3cc-4d66-a545-78c86dac0f66",
   "metadata": {},
   "source": [
    "### Questions\n",
    "- 1. Is logerror significantly different for properties in LA County vs Orange County vs Ventura County?\n",
    "- 2.  Is there a relationship between logerror and zipcode?\n",
    "- 3. Is there a relationship between logerror and finished square footage of the property in each county?\n",
    "(small, medium, large, extra large) \n",
    "- 4. Is there a relationship between logerror and lot size square footage in each county?\n",
    "(small, medium, large, extra large) \n",
    "- 5. Controlling for property square footage, what is the relationship between logerror and age of the home?"
   ]
  },
  {
   "cell_type": "markdown",
   "id": "738d145f-03d6-4893-8940-a6b9800d8a25",
   "metadata": {},
   "source": [
    "## UNI-VARIATE"
   ]
  },
  {
   "cell_type": "markdown",
   "id": "b157fbea-8d50-4b74-ae71-9c8f8e441c7a",
   "metadata": {},
   "source": [
    "What is the distribution of logerror?"
   ]
  },
  {
   "cell_type": "code",
   "execution_count": 12,
   "id": "06f4f0a3-43b6-4e4e-a69b-13bfb8ef253d",
   "metadata": {},
   "outputs": [
    {
     "data": {
      "image/png": "[encoded data removed]",
      "text/plain": [
       "<Figure size 432x288 with 1 Axes>"
      ]
     },
     "metadata": {
      "needs_background": "light"
     },
     "output_type": "display_data"
    }
   ],
   "source": [
    "ax = sns.histplot(data=df, x=\"logerror\", kde=True, log_scale=True)"
   ]
  },
  {
   "cell_type": "markdown",
   "id": "871e2e3c-8997-4255-b75c-6cc7c1534767",
   "metadata": {},
   "source": [
    "### Split Data"
   ]
  },
  {
   "cell_type": "code",
   "execution_count": 13,
   "id": "8f6f4a99-2f0f-4b06-a3a3-f8222bf11f25",
   "metadata": {},
   "outputs": [
    {
     "name": "stdout",
     "output_type": "stream",
     "text": [
      "Train: 45516 rows, 33 cols\n",
      "Validate: 11380 rows, 33 cols\n",
      "Test: 10041 rows, 33 cols\n"
     ]
    }
   ],
   "source": [
    "train, validate, test = wrangle_zillow.split(df)"
   ]
  },
  {
   "cell_type": "markdown",
   "id": "ce96af88-541b-4721-b60b-fc17be6c288e",
   "metadata": {
    "tags": []
   },
   "source": [
    "#### Question 1:"
   ]
  },
  {
   "cell_type": "code",
   "execution_count": 14,
   "id": "18483eeb-f097-4bc6-9948-34ad887b09f4",
   "metadata": {},
   "outputs": [
    {
     "data": {
      "text/plain": [
       "6,037.00    32432\n",
       "6,059.00     9607\n",
       "6,111.00     3477\n",
       "Name: fips, dtype: int64"
      ]
     },
     "execution_count": 14,
     "metadata": {},
     "output_type": "execute_result"
    }
   ],
   "source": [
    "train.fips.value_counts()"
   ]
  },
  {
   "cell_type": "markdown",
   "id": "43502cc6-e934-47fb-bc5b-887886e7791d",
   "metadata": {},
   "source": [
    " Is logerror significantly different for properties in LA County vs Orange County vs Ventura County?"
   ]
  },
  {
   "cell_type": "code",
   "execution_count": 15,
   "id": "f8b3f5e1-544b-4703-89ae-61c06c0eb369",
   "metadata": {},
   "outputs": [
    {
     "data": {
      "image/png": "[encoded data removed]",
      "text/plain": [
       "<Figure size 432x288 with 1 Axes>"
      ]
     },
     "metadata": {
      "needs_background": "light"
     },
     "output_type": "display_data"
    }
   ],
   "source": [
    "sns.boxplot(train.logerror, train.county_code_bin)\n",
    "plt.title(\"Is there a difference in logerror for each county?\")\n",
    "plt.show()"
   ]
  },
  {
   "cell_type": "code",
   "execution_count": null,
   "id": "937907e1-e064-4527-adc3-94f3fde7c71c",
   "metadata": {},
   "outputs": [],
   "source": []
  },
  {
   "cell_type": "code",
   "execution_count": null,
   "id": "23f4258e-6621-4fb6-85fe-3200795673fb",
   "metadata": {},
   "outputs": [],
   "source": []
  },
  {
   "cell_type": "code",
   "execution_count": null,
   "id": "1197ef9f-645b-4484-847c-51b61904b0e5",
   "metadata": {},
   "outputs": [],
   "source": []
  },
  {
   "cell_type": "code",
   "execution_count": null,
   "id": "595635d4-521a-4434-b7f3-dcb65d13a713",
   "metadata": {},
   "outputs": [],
   "source": []
  },
  {
   "cell_type": "code",
   "execution_count": null,
   "id": "8625561f-5087-4db2-b3ce-fa58a581e433",
   "metadata": {},
   "outputs": [],
   "source": []
  },
  {
   "cell_type": "markdown",
   "id": "e130536a-46c6-45c7-8972-014219fd8e17",
   "metadata": {},
   "source": [
    "##### Statistical Testing"
   ]
  },
  {
   "cell_type": "markdown",
   "id": "b7a88124-936e-4d82-b380-9e2e22ff74e9",
   "metadata": {},
   "source": [
    "Continuous & Categorical"
   ]
  },
  {
   "cell_type": "code",
   "execution_count": null,
   "id": "ac4a596d-e73f-4254-9666-112aad4ed218",
   "metadata": {},
   "outputs": [],
   "source": []
  },
  {
   "cell_type": "code",
   "execution_count": null,
   "id": "bb666f59-7fd1-41e6-a897-45b08a5e6614",
   "metadata": {},
   "outputs": [],
   "source": []
  },
  {
   "cell_type": "markdown",
   "id": "c856072d-326e-4fef-b481-ec840ca3881a",
   "metadata": {},
   "source": [
    "#### Question 2:"
   ]
  },
  {
   "cell_type": "markdown",
   "id": "5708a991-8448-4ec5-b02d-e9ced3fbfd50",
   "metadata": {},
   "source": [
    "Is there a relationship between logerror and zipcode?"
   ]
  },
  {
   "cell_type": "code",
   "execution_count": null,
   "id": "21fbd97c-e369-46a1-999c-68f4f5deead6",
   "metadata": {},
   "outputs": [],
   "source": []
  },
  {
   "cell_type": "code",
   "execution_count": null,
   "id": "4b601cbe-a04a-4ad6-88a3-f4ec854d1f1b",
   "metadata": {},
   "outputs": [],
   "source": [
    "sns.boxplot(train.logerror, train.regionidzip)\n",
    "plt.title(\"Is there a difference in logerror for each county?\")\n",
    "plt.show()"
   ]
  },
  {
   "cell_type": "markdown",
   "id": "deda5c4b-60dc-4bc4-8ea4-be828d571fd8",
   "metadata": {
    "tags": []
   },
   "source": [
    "##### Statistical Testing"
   ]
  },
  {
   "cell_type": "code",
   "execution_count": null,
   "id": "c043ab1b-5866-4189-96f3-2afecb153871",
   "metadata": {},
   "outputs": [],
   "source": []
  },
  {
   "cell_type": "markdown",
   "id": "443f3cd4-d1c0-4366-9b70-4836ec278d79",
   "metadata": {},
   "source": [
    "#### Question 3:"
   ]
  },
  {
   "cell_type": "markdown",
   "id": "58dedeaa-3cb1-4e56-a22f-7b02837cdaf4",
   "metadata": {},
   "source": [
    "Is there a relationship between logerror and finished square footage of the property in each county?"
   ]
  },
  {
   "cell_type": "code",
   "execution_count": null,
   "id": "c98fcf93-25a4-4ffd-a932-67807d305ab3",
   "metadata": {},
   "outputs": [],
   "source": [
    "sns.scatterplot(data=train, x='calculatedfinishedsquarefeet', y='logerror', hue = 'county_code_bin')"
   ]
  },
  {
   "cell_type": "markdown",
   "id": "39742a90-37a8-40fc-9486-faa58582fed6",
   "metadata": {
    "tags": []
   },
   "source": [
    "##### Statistical Testing"
   ]
  },
  {
   "cell_type": "markdown",
   "id": "2c230fff-55a1-4533-9c2d-2f5c6265834f",
   "metadata": {},
   "source": [
    "- H0: There is no linear relationship between caluclated finished square feet and log error.\n",
    "- H1: There is a linear relationship between caluclated finished square feet and log error."
   ]
  },
  {
   "cell_type": "code",
   "execution_count": null,
   "id": "0b986ac7-8c83-457c-99ab-b3d3db42c40d",
   "metadata": {},
   "outputs": [],
   "source": [
    "alpha = 0.05\n",
    "x = train.calculatedfinishedsquarefeet\n",
    "y = train.logerror\n",
    "r, p = stats.pearsonr(x, y)\n",
    "print(f'r = {r:.5f}')\n",
    "print(f'p = {p:.1f}')"
   ]
  },
  {
   "cell_type": "markdown",
   "id": "18689fe5-0002-4bd9-905a-121db865aee4",
   "metadata": {},
   "source": [
    "We can reject the null hypothesis that there is no linear relationship between caluclated finished square feet and log error."
   ]
  },
  {
   "cell_type": "markdown",
   "id": "af39cc1b-a0d7-47b5-bdb2-e17b7525680e",
   "metadata": {},
   "source": [
    "#### Question 4:"
   ]
  },
  {
   "cell_type": "markdown",
   "id": "075a43e5-1cbe-4a2d-b55f-f2784b9ea35f",
   "metadata": {},
   "source": [
    "Is there a relationship between logerror and lot size square footage in each county?\n",
    "(small, medium, large, extra large) "
   ]
  },
  {
   "cell_type": "code",
   "execution_count": null,
   "id": "76f70d83-cedf-4091-a534-a076cb29fa3c",
   "metadata": {},
   "outputs": [],
   "source": [
    "sns.scatterplot(data=train, x='lotsizesquarefeet', y='logerror')"
   ]
  },
  {
   "cell_type": "markdown",
   "id": "88341b4a-fd9e-4185-9d7e-d0eb4077e7ec",
   "metadata": {
    "tags": []
   },
   "source": [
    "##### Statistical Testing"
   ]
  },
  {
   "cell_type": "code",
   "execution_count": null,
   "id": "b340977b-bb50-48e6-b78f-444df42bcf29",
   "metadata": {},
   "outputs": [],
   "source": []
  },
  {
   "cell_type": "markdown",
   "id": "9aafbf43-21df-412c-bea9-a9e9f2a8b951",
   "metadata": {},
   "source": [
    "#### Question 5:"
   ]
  },
  {
   "cell_type": "markdown",
   "id": "173d7208-9682-4c98-843c-a44a800f3417",
   "metadata": {},
   "source": [
    "Controlling for property square footage, what is the relationship between logerror and age of the home?"
   ]
  },
  {
   "cell_type": "markdown",
   "id": "e3f4ab53-d16e-4a5c-8140-708a74e24f3f",
   "metadata": {
    "tags": []
   },
   "source": [
    "##### Statistical Testing"
   ]
  },
  {
   "cell_type": "code",
   "execution_count": null,
   "id": "c5a6271b-1eba-48b7-b080-ebc00e1e8e0a",
   "metadata": {},
   "outputs": [],
   "source": []
  },
  {
   "cell_type": "markdown",
   "id": "2d6726ff-49fc-4356-8568-405bdef60f07",
   "metadata": {},
   "source": [
    "### Bonus:\n",
    "- Compute the mean(logerror) by zipcode "
   ]
  },
  {
   "cell_type": "code",
   "execution_count": null,
   "id": "9673f1ec-7d11-4af0-880b-3643fdfd286b",
   "metadata": {},
   "outputs": [],
   "source": [
    "train.head()"
   ]
  },
  {
   "cell_type": "code",
   "execution_count": null,
   "id": "7fd066a8-3092-41ea-8316-12a495b02669",
   "metadata": {},
   "outputs": [],
   "source": [
    "train.regionidzip.isna().sum()"
   ]
  },
  {
   "cell_type": "code",
   "execution_count": null,
   "id": "fcee3e7c-c9c7-4f1b-8325-7e710b67a62c",
   "metadata": {},
   "outputs": [],
   "source": [
    "train.regionidzip = train.regionidzip.astype(int)"
   ]
  },
  {
   "cell_type": "code",
   "execution_count": null,
   "id": "db244db0-2c82-43d9-b804-f8d04230e1ee",
   "metadata": {},
   "outputs": [],
   "source": [
    "\n",
    "train.groupby(['regionidzip']).logerror.mean()"
   ]
  },
  {
   "cell_type": "markdown",
   "id": "356a3570-aa45-40aa-8071-6f25639fed65",
   "metadata": {},
   "source": [
    "- and the overall mean(logerror). "
   ]
  },
  {
   "cell_type": "code",
   "execution_count": null,
   "id": "bfedecaf-0f84-41b8-bf18-615239b46dcc",
   "metadata": {},
   "outputs": [],
   "source": [
    "train.logerror.mean()"
   ]
  },
  {
   "cell_type": "markdown",
   "id": "00b2e890-f8b0-4609-9352-c32006ad2d24",
   "metadata": {},
   "source": [
    "- Write a loop that will run a t-test between the overall mean and the mean for each zip code. "
   ]
  },
  {
   "cell_type": "code",
   "execution_count": null,
   "id": "ed3ccfd1-497f-4297-8003-eea9e392a5dd",
   "metadata": {},
   "outputs": [],
   "source": []
  },
  {
   "cell_type": "markdown",
   "id": "50d9900f-1102-4ce3-a5bb-0df952dbdf18",
   "metadata": {},
   "source": [
    "- We want to identify the zip codes where the error is significantly higher or lower than the expected error."
   ]
  },
  {
   "cell_type": "code",
   "execution_count": null,
   "id": "ce04e2a2-ab93-4a9f-8220-70a7220f028e",
   "metadata": {},
   "outputs": [],
   "source": []
  }
 ],
 "metadata": {
  "kernelspec": {
   "display_name": "Python 3 (ipykernel)",
   "language": "python",
   "name": "python3"
  },
  "language_info": {
   "codemirror_mode": {
    "name": "ipython",
    "version": 3
   },
   "file_extension": ".py",
   "mimetype": "text/x-python",
   "name": "python",
   "nbconvert_exporter": "python",
   "pygments_lexer": "ipython3",
   "version": "3.9.7"
  }
 },
 "nbformat": 4,
 "nbformat_minor": 5
}
